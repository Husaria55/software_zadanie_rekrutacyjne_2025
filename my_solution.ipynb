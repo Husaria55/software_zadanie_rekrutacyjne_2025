{
 "cells": [
  {
   "cell_type": "markdown",
   "metadata": {},
   "source": [
    "# My solution"
   ]
  },
  {
   "cell_type": "markdown",
   "id": "2f767a52",
   "metadata": {
    "vscode": {
     "languageId": "latex"
    }
   },
   "source": [
    "## Description of the core idea\n",
    "\n",
    "My idea was to create a more realistic physics model of the rocket. The problematic part was to find the neccessary data like mass of the rocket, drag coefficient, etc. Even though I found quite comprehesive description of the similar projects to AGH Space Systems, still I would have to think up some values for the physics model. \n",
    "\n",
    "So I decided to code something more like physics sandbox, where you can control the physics constants and see how the rocket behaves. To add some fun to this I decided that every possible constant should be controllable by the user. So that if somebody wants to simulate something like moon conditions, he could set drag coefficient to 0 and gravity to 1/6 of Earth's gravity. "
   ]
  },
  {
   "cell_type": "markdown",
   "id": "44b9c24c",
   "metadata": {},
   "source": [
    "## How to run the code\n",
    "1. Install matplotlib to support the graphs\n",
    "2. Run the proxy.py file first, then tcp_simulator.py\n",
    "3. In the tcp_simulator.py file, there is an option in terminal to set the variables, the default values are similar to SKYLARK rocket from AGH Space Systems. Some variables are just guesses, as they were not provided in the description of the rocket on internet site.\n",
    "4. Run the rocket_launch_system.py file after the flight is finished the graphs will be displayed"
   ]
  },
  {
   "cell_type": "markdown",
   "id": "b2ade7db",
   "metadata": {},
   "source": [
    "## Physics model"
   ]
  },
  {
   "cell_type": "markdown",
   "id": "c845dca1",
   "metadata": {},
   "source": [
    "To simulate a rocket model, we need a set of variables that define the rocket and its environment, and a set of equations that describe the forces acting on it. The simulation's core is Newton's Second Law ($F=ma$), but applied to a system where mass is not constant. We must use numerical integration, as the forces are not constant. This means we'll calculate the rocket's state (position, velocity, mass) in small time steps (e.g., every $\\Delta t = 0.01$ seconds). Here’s a breakdown of the variables and equations for a standard 1D (vertical) flight simulation, we assume 1D motion for simplicity."
   ]
  },
  {
   "cell_type": "markdown",
   "id": "3dfdc736",
   "metadata": {},
   "source": [
    "## Core equations\n",
    "\n",
    "The simulation loop is built around finding the rocket's acceleration at any given moment. \n",
    "\n",
    "The \"Master\" Equation (Newton's 2nd Law) The net acceleration $a(t)$ is the sum of all forces divided by the rocket's instantaneous mass $m(t)$.\n",
    "\n",
    "$a(t) = \\frac{\\sum F}{m(t)} = \\frac{F_{thrust}(t) - F_{gravity}(y, t) - F_{drag}(y, v)}{m(t)}$\n",
    "\n",
    "$F_{thrust}$ = Force from the engine (pushing up)\n",
    "\n",
    "$F_{gravity}$ = Force of gravity (pulling down) \n",
    "\n",
    "$F_{drag}$ = Force of air resistance (pushing down)"
   ]
  },
  {
   "cell_type": "markdown",
   "id": "e8507a41",
   "metadata": {
    "vscode": {
     "languageId": "plaintext"
    }
   },
   "source": [
    "### Force and mass equations\n",
    "\n",
    "### Thrust equation:\n",
    "\n",
    "$$F_{thrust} = \\dot{m} \\cdot I_{sp} \\cdot g_0$$\n",
    "\n",
    "Where:\n",
    "- $F_{thrust}$ is the force of thrust\n",
    "- $\\dot{m}$ is the mass flow rate\n",
    "- $I_{sp}$ is the specific impulse\n",
    "- $g_0$ is the standard gravity\n",
    "\n",
    "### Instantaneous Mass ($m(t)$) \n",
    "\n",
    "The rocket's mass is constantly decreasing as it burns fuel\n",
    "during burn \n",
    "($t < t_{burnout}$): $m(t) = m_{initial} - (\\dot{m} \\cdot t)$ \n",
    "\n",
    "After Burnout ($t \\ge t_{burnout}$): $m(t) = m_{dry}$ \n",
    "\n",
    "Where:\n",
    "- $m(t)$ is the mass of the rocket at time $t$\n",
    "- $m_{initial}$ is the initial mass of the rocket\n",
    "- $\\dot{m}$ is the mass flow rate\n",
    "- $t_{burnout}$ is the burnout time\n",
    "- $m_{dry}$ is the dry mass of the rocket\n",
    "\n",
    "### Gravity force\n",
    "The Newton gravity law states that:\n",
    "$$F_{gravity} = G \\cdot \\frac{m_1 \\cdot m_2}{r^2}$$\n",
    "\n",
    "Where:\n",
    "- $F_{gravity}$ is the force of gravity\n",
    "- $m_1$ is the mass of the rocket\n",
    "- $m_2$ is the mass of the Earth\n",
    "- $G$ is the gravitational constant\n",
    "- $r$ is the distance between the rocket and the center of the Earth\n",
    "\n",
    "### Drag force\n",
    "\n",
    "Drag ($F_{drag}$) This is the most complex force to model accurately.\n",
    "\n",
    "$$F_d(y, v) = \\frac{1}{2} \\cdot \\rho(y) \\cdot v^2 \\cdot C_d \\cdot A$$\n",
    "\n",
    "Where:\n",
    "- $F_{drag}$ is the force of drag\n",
    "- $\\rho(y)$ is the density of the fluid at height $y$\n",
    "- $v$ is the velocity of the fluid\n",
    "- $C_d$ is the drag coefficient\n",
    "- $A$ is the cross-sectional area\n"
   ]
  },
  {
   "cell_type": "markdown",
   "id": "84442db8",
   "metadata": {},
   "source": [
    "## Variables list summary\n",
    "\n",
    "### State Variables (These change during the simulation)\n",
    "\n",
    "- Time ($t$)\n",
    "\n",
    "- Altitude ($y$)\n",
    "\n",
    "- Velocity ($v$)\n",
    "\n",
    "- Acceleration ($a$)\n",
    "\n",
    "- Instantaneous Mass ($m(t)$)\n",
    "\n",
    "\n",
    "\n",
    "### Rocket Parameters \n",
    "\n",
    "- ($m_{initial}$) - intial mass\n",
    "\n",
    "- ($m_{dry}$) - dry mass\n",
    "\n",
    "- ($m_{propellant}$) - propellant mass (fuel + oxidizer)\n",
    "\n",
    "- ($t_{burn}$) - total time the engine fires\n",
    "\n",
    "- ($\\dot{m}$) - Calculated as $m_p / t_{burn}$ - mass flow rate\n",
    "\n",
    "- ($I_{sp}$) - Specific impulse\n",
    "\n",
    "- ($R_{Earth}$) - Radius of Earth(or other body)\n",
    "\n",
    "- ($A$) - Reference Area\n",
    "\n",
    "- ($C_d$) - Drag Coefficient\n",
    "\n",
    "### Environmental Constants & Models\n",
    "\n",
    "- Sea-Level Gravity ($g_0$): $9.81 \\, m/s^2$\n",
    "\n",
    "- Radius of Earth ($R_{Earth}$): $6.371 \\times 10^6 \\, m$\n",
    "\n",
    "- Gravitational constant ($G$): $6.67430 \\times 10^{-11} \\, m^3 \\, kg^{-1} \\, s^{-2}$"
   ]
  },
  {
   "cell_type": "markdown",
   "id": "f87576c5",
   "metadata": {},
   "source": [
    "### Limitations\n",
    "\n",
    "The model is only 1D, so it ingnores the role of the wind and the Earth's rotation. (which for small rockets is not a big deal) \n",
    "\n",
    "Also the model isn't taking into account the stability of the rocket, instead of real 3D object rocket is represented as a point of mass, which completely ingores all forces trying to roll the rocket. \n",
    "\n",
    "Another issue with 1D model is that the angle  variable is not used at all, so it's not possible to simulate the effect of the angle on the rocket's motion. However adding angle and movemnet in 3D space would require modification of the drag model.\n",
    "\n",
    "When it comes to drag assuming constant drag coefficient is simplification, it should be a function of Mach number, but it's hard to get this data, because it's spcific to particular object.\n",
    "\n",
    "Atmospehere model is also simplified, it doesn't take into account local weather conditions.\n",
    "\n",
    "\n",
    "\n",
    "\n"
   ]
  }
 ],
 "metadata": {
  "kernelspec": {
   "display_name": "Python 3",
   "language": "python",
   "name": "python3"
  },
  "language_info": {
   "name": "python",
   "version": "3"
  }
 },
 "nbformat": 4,
 "nbformat_minor": 5
}
